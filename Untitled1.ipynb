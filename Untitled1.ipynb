{
 "cells": [
  {
   "cell_type": "code",
   "execution_count": 2,
   "id": "8e37ed0a-085a-495f-976a-3df5f8a69232",
   "metadata": {},
   "outputs": [],
   "source": [
    "import pandas as pd\n",
    "import Feature\n",
    "from tqdm import tqdm\n",
    "import warnings\n",
    "import time\n",
    "import requests\n"
   ]
  },
  {
   "cell_type": "code",
   "execution_count": 5,
   "id": "0a35fe25-901a-4616-a02a-7e2a9ef26233",
   "metadata": {},
   "outputs": [],
   "source": [
    "normal = pd.read_csv('majestic_million.csv')\n",
    "normal = normal[:2500]\n",
    "phishing = pd.read_csv('data.csv')"
   ]
  },
  {
   "cell_type": "code",
   "execution_count": 6,
   "id": "1ab3db8d-d0f3-45fe-b997-e5b121b0131e",
   "metadata": {},
   "outputs": [],
   "source": [
    "url_list = []\n",
    "for i in normal[\"Domain\"]:\n",
    "    url_list.append(f'https://{i}')"
   ]
  },
  {
   "cell_type": "code",
   "execution_count": 7,
   "id": "fc72ae81-0f42-4061-9998-bf3d6c6d61fd",
   "metadata": {},
   "outputs": [],
   "source": [
    "normal['url'] = url_list\n",
    "normal['label'] = 1\n",
    "normal = normal[['url','label']]"
   ]
  },
  {
   "cell_type": "code",
   "execution_count": 8,
   "id": "7fa3919f-f284-406f-a423-aa2a56821e86",
   "metadata": {},
   "outputs": [],
   "source": [
    "df = pd.concat([normal, phishing], axis = 0)"
   ]
  },
  {
   "cell_type": "code",
   "execution_count": null,
   "id": "d2d62285-01d0-4bb3-8925-be5a25b45726",
   "metadata": {},
   "outputs": [
    {
     "name": "stderr",
     "output_type": "stream",
     "text": [
      "  8%|██████▏                                                                        | 208/2653 [08:34<49:54,  1.22s/it]"
     ]
    }
   ],
   "source": [
    "data_list = []\n",
    "\n",
    "for url in tqdm(df['url']):\n",
    "    try:\n",
    "        data = Feature.total_feature(url)\n",
    "    except Exception as e:\n",
    "        data = [[-1, -1, -1, -1, -1, -1, -1, -1, -1, -1, -1, -1, -1, -1, -1, -1, -1, -1]]\n",
    "    \n",
    "    for list_value in data:\n",
    "        data_list.append(list_value)\n",
    "\n",
    "data = pd.DataFrame(data_list, df['label'])\n",
    "\n",
    "data.to_csv('c:\\workspace\\Data-pipeline\\ml_data.csv')"
   ]
  },
  {
   "cell_type": "code",
   "execution_count": 4,
   "id": "fa568a5a-6850-4375-a651-a61bf4e960fb",
   "metadata": {},
   "outputs": [],
   "source": [
    "requests.packages.urllib3.disable_warnings() "
   ]
  },
  {
   "cell_type": "code",
   "execution_count": null,
   "id": "97ea2833-61b8-4785-a8bc-b45c21aa6f77",
   "metadata": {},
   "outputs": [],
   "source": [
    "import pandas as pd\n",
    "import Feature\n",
    "from tqdm import tqdm\n",
    "import warnings\n",
    "import time\n",
    "import requests\n",
    "normal = pd.read_csv('majestic_million.csv')\n",
    "normal = normal[:2500]\n",
    "phishing = pd.read_csv('data.csv')\n",
    "url_list = []\n",
    "for i in normal[\"Domain\"]:\n",
    "    url_list.append(f'https://{i}')\n",
    "normal['url'] = url_list\n",
    "normal['label'] = 1\n",
    "normal = normal[['url','label']]\n",
    "df = pd.concat([normal, phishing], axis = 0)\n",
    "data_list = []\n",
    "for url in tqdm(df['url']):\n",
    "    try:\n",
    "        data = Feature.total_feature(url)\n",
    "    except Exception as e:\n",
    "        data = [[-1, -1, -1, -1, -1, -1, -1, -1, -1, -1, -1, -1, -1, -1, -1, -1, -1, -1]]\n",
    "    \n",
    "    for list_value in data:\n",
    "        data_list.append(list_value)\n",
    "\n",
    "data = pd.DataFrame(data_list, df['label'])\n",
    "\n",
    "data.to_csv('c:\\workspace\\Data-pipeline\\ml_data.csv')"
   ]
  }
 ],
 "metadata": {
  "kernelspec": {
   "display_name": "Python 3 (ipykernel)",
   "language": "python",
   "name": "python3"
  },
  "language_info": {
   "codemirror_mode": {
    "name": "ipython",
    "version": 3
   },
   "file_extension": ".py",
   "mimetype": "text/x-python",
   "name": "python",
   "nbconvert_exporter": "python",
   "pygments_lexer": "ipython3",
   "version": "3.9.13"
  }
 },
 "nbformat": 4,
 "nbformat_minor": 5
}
